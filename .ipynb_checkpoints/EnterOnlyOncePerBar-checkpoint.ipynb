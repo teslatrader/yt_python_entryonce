{
 "cells": [
  {
   "cell_type": "code",
   "execution_count": null,
   "id": "ab0f5947-aee5-4fe0-a146-2f781c0170e0",
   "metadata": {},
   "outputs": [],
   "source": [
    "import pandas as pd\n",
    "import numpy as np\n",
    "import time, datetime\n",
    "from binance.client import Client\n",
    "\n",
    "client = Client()\n",
    "coin = 'BTCUSDT'\n",
    "tf = '4h'"
   ]
  },
  {
   "cell_type": "code",
   "execution_count": null,
   "id": "d9cff0a1-4f30-4627-9eab-2afed0bf751d",
   "metadata": {},
   "outputs": [],
   "source": [
    "def GetData(symbol='BTCUSDT', start='2020-01-01', tf='1h'):\n",
    "    frame = pd.DataFrame(client.get_historical_klines(symbol, tf, start))\n",
    "    frame = frame.iloc[:,:6]\n",
    "    frame.columns = ['Time','Open','High','Low','Close','Volume']\n",
    "    frame.set_index('Time', inplace=True)\n",
    "    frame.index = pd.to_datetime(frame.index, unit='ms')\n",
    "    frame = frame.astype(float)\n",
    "    return frame"
   ]
  },
  {
   "cell_type": "code",
   "execution_count": null,
   "id": "2c82e3e5-8e09-4c02-bfce-5359410e1435",
   "metadata": {},
   "outputs": [],
   "source": [
    "df = GetData(coin, '2022-01-01', tf)"
   ]
  },
  {
   "cell_type": "code",
   "execution_count": null,
   "id": "34858250-d6d8-4e42-8888-11086bced3a8",
   "metadata": {},
   "outputs": [],
   "source": [
    "df['SMA_100'] = df.Close.rolling(100).mean()\n",
    "df.dropna(inplace=True)"
   ]
  },
  {
   "cell_type": "code",
   "execution_count": null,
   "id": "8a21ee7b-a6dd-487c-8424-c4b54bc159f0",
   "metadata": {},
   "outputs": [],
   "source": [
    "df['Buy'] = (df.Close > df.High.shift(1)) & (df.Close > df.High.shift(2)) & (df.Close > df.SMA_100)"
   ]
  },
  {
   "cell_type": "code",
   "execution_count": null,
   "id": "608254f2-71d8-4cd4-9e25-3ec98e6e221e",
   "metadata": {},
   "outputs": [],
   "source": [
    "df['Shifted_open'] = df.Open.shift(-1)"
   ]
  },
  {
   "cell_type": "code",
   "execution_count": null,
   "id": "29da0435-d519-4679-a245-81ad92df9b64",
   "metadata": {
    "tags": []
   },
   "outputs": [],
   "source": [
    "is_open_position = False\n",
    "buy_dates, sell_dates = [], []\n",
    "buy_prices, sell_prices = [], []\n",
    "last_trades_time = dict()\n",
    "    \n",
    "def MainCycle(sym='BTCUSDT'):\n",
    "    global is_open_position, buy_dates, sell_dates, buy_prices, sell_prices, tf, last_trades_time\n",
    "    \n",
    "    def PeriodSeconds(tf):\n",
    "            period_seconds = 0\n",
    "            period_dimension = tf[-1]\n",
    "            period_qty = int(tf[:-1])\n",
    "            \n",
    "            if period_dimension == 'm':\n",
    "                period_seconds = period_qty * 60\n",
    "            elif period_dimension == 'h':\n",
    "                period_seconds = period_qty * 60 * 60\n",
    "            elif period_dimension == 'd':\n",
    "                period_seconds = period_qty * 60 * 60 * 24\n",
    "            elif period_dimension == 'w':\n",
    "                period_seconds = period_qty * 60 * 60 * 24 * 7\n",
    "            elif period_dimension == 'M':\n",
    "                period_seconds = int(period_qty * 60 * 60 * 24 * 30.437)\n",
    "            \n",
    "            # print(period_seconds)\n",
    "            return period_seconds\n",
    "\n",
    "    \n",
    "    def WasOpenTradeThisBar_1(checking_time):\n",
    "        checking_time = checking_time.replace(second=0,microsecond=0)\n",
    "        for timestamp in buy_dates:\n",
    "            if timestamp == checking_time:\n",
    "                return True\n",
    "        return False\n",
    "    \n",
    "    \n",
    "    def WasOpenTradeThisBar_2(bar_open_time):\n",
    "        checking_time = 0\n",
    "        \n",
    "        for coin in last_trades_time:\n",
    "            if coin == sym:\n",
    "                checking_time = last_trades_time[sym]\n",
    "        \n",
    "        if checking_time == 0:\n",
    "            return False\n",
    "        \n",
    "        bar_open_time = datetime.datetime.timestamp(bar_open_time.to_pydatetime())\n",
    "        next_trade_time = bar_open_time + PeriodSeconds(tf)\n",
    "        if next_trade_time <= checking_time:\n",
    "            return False\n",
    "        return True\n",
    "    \n",
    "        \n",
    "    for index, row in df.iterrows():\n",
    "        if not is_open_position and row.Buy:\n",
    "            buy_prices.append(row.Shifted_open)\n",
    "            buy_dates.append(pd.to_datetime(index,unit='s'))\n",
    "            is_open_position = True\n",
    "            last_trades_time[sym] = datetime.datetime.timestamp(index.to_pydatetime())\n",
    "\n",
    "        if is_open_position:\n",
    "            is_open_position = False\n",
    "            sell_dates.append(index)\n",
    "            sell_prices.append(row.Close)\n",
    "\n",
    "        current_time = datetime.datetime.timestamp(index.to_pydatetime())\n",
    "        current_time += 30.5\n",
    "        current_time = datetime.datetime.fromtimestamp(current_time)\n",
    "            \n",
    "        if not is_open_position and row.Buy and not WasOpenTradeThisBar_1(index):\n",
    "            buy_prices.append(row.Shifted_open)\n",
    "            buy_dates.append(pd.to_datetime(current_time))\n",
    "            is_open_position = True\n",
    "        \n",
    "        if not is_open_position and row.Buy and not WasOpenTradeThisBar_2(index):\n",
    "            buy_prices.append(row.Shifted_open)\n",
    "            buy_dates.append(pd.to_datetime(current_time))\n",
    "            is_open_position = True"
   ]
  },
  {
   "cell_type": "code",
   "execution_count": null,
   "id": "998ea667-838a-43bd-9443-aba8f8ef2433",
   "metadata": {},
   "outputs": [],
   "source": [
    "MainCycle(coin)"
   ]
  },
  {
   "cell_type": "code",
   "execution_count": null,
   "id": "ff617e20-f5c3-4506-89cf-71e268cce5d0",
   "metadata": {},
   "outputs": [],
   "source": [
    "buy_dates"
   ]
  },
  {
   "cell_type": "code",
   "execution_count": null,
   "id": "260dd506-0d73-4e83-8cbf-a42c0952dfe1",
   "metadata": {},
   "outputs": [],
   "source": [
    "sell_dates"
   ]
  },
  {
   "cell_type": "code",
   "execution_count": null,
   "id": "127931bd-bb69-40a4-ac08-dd9fa5d8a6cd",
   "metadata": {},
   "outputs": [],
   "source": []
  },
  {
   "cell_type": "code",
   "execution_count": null,
   "id": "7ce6ae69-0291-41fb-8b2f-3c4d1b020390",
   "metadata": {},
   "outputs": [],
   "source": []
  },
  {
   "cell_type": "code",
   "execution_count": null,
   "id": "fe9aa805-24e2-4d25-a4f3-31efb071ef28",
   "metadata": {},
   "outputs": [],
   "source": []
  }
 ],
 "metadata": {
  "kernelspec": {
   "display_name": "Python 3 (ipykernel)",
   "language": "python",
   "name": "python3"
  },
  "language_info": {
   "codemirror_mode": {
    "name": "ipython",
    "version": 3
   },
   "file_extension": ".py",
   "mimetype": "text/x-python",
   "name": "python",
   "nbconvert_exporter": "python",
   "pygments_lexer": "ipython3",
   "version": "3.9.13"
  }
 },
 "nbformat": 4,
 "nbformat_minor": 5
}
